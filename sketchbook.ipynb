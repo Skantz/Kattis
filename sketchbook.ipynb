{
 "cells": [
  {
   "cell_type": "code",
   "execution_count": null,
   "metadata": {},
   "outputs": [],
   "source": [
    "#Some  sum  https://open.kattis.com/problems/somesum\n",
    "\n",
    "#n = int(list(sys.stdin)[0].strip())\n",
    "n=3\n",
    "n = int(input())\n",
    "\n",
    "assert(1 <=  n <= 100)\n",
    "\n",
    "answer = None\n",
    "if n == 1:\n",
    "    answer = \"Either\"\n",
    "if n == 2:\n",
    "    answer = \"Odd\"\n",
    "if 3 <= n < 100 and n % 2 == 0:\n",
    "    answer = \"Either\"\n",
    "    if n % 4 == 0:\n",
    "        answer = \"Even\"\n",
    "if 3 <= n < 100 and n % 2 == 1:\n",
    "    answer = \"Either\"\n",
    "if n == 100:\n",
    "    answer = \"Even\"\n",
    "\n",
    "print(answer)\n",
    "\n",
    "#5/10"
   ]
  },
  {
   "cell_type": "code",
   "execution_count": null,
   "metadata": {},
   "outputs": [],
   "source": [
    "#https://open.kattis.com/problems/compositions3\n",
    "\n",
    "\n",
    "#0/"
   ]
  },
  {
   "cell_type": "code",
   "execution_count": null,
   "metadata": {},
   "outputs": [],
   "source": [
    "#https://open.kattis.com/problems/luhnchecksum\n",
    "str_n = input().strip(\"\\n\")\n",
    "digits_of_n = [int(e) for e in str_n.split()]\n",
    "for i, v in enumerate(digits_of_n[::-1])\n"
   ]
  },
  {
   "cell_type": "code",
   "execution_count": null,
   "metadata": {},
   "outputs": [],
   "source": [
    "#https://open.kattis.com/problems/completingthesquare\n",
    "\n",
    "def square():\n",
    "    import sys\n",
    "    #for \n",
    "    #x1, y1 = [int(e) for e in sys.stdin.readline().strip().split()]\n",
    "    #x2, y2 = [int(e) for e in sys.stdin.readline().strip().split()]\n",
    "    #x3, y3 = [int(e) for e in sys.stdin.readline().strip().split()]\n",
    "\n",
    "    dist1_2 = ((x1 - x2)**2 + (y1 - y2)**2)**0.5 \n",
    "    dist1_3 = ((x1 - x3)**2 + (y1 - y3)**2)**0.5 \n",
    "    dist2_3 = ((x2 - x3)**2 + (y2 - y3)**2)**0.5\n",
    "\n",
    "    max_dist = max(dist1_2, max(dist1_3, dist2_3))\n",
    "\n",
    "    for x in range(x1 - round(max_dist *2), x1 + round(max_dist * 2)):\n",
    "        for y in range(y1 - round(max_dist *2), y1 + round(max_dist * 2)): \n",
    "            dists = [((x - ox) **2 + (y - oy)**2) ** 0.5 for ox, oy in [(x1, y1), (x2, y2), (x3, y3)]]\n",
    "            for d in dists:\n",
    "                if dists.count(d) >= 2:\n",
    "                    print(x, y)\n",
    "                    return\n",
    "\n",
    "square()\n",
    "#Wrong idea"
   ]
  },
  {
   "cell_type": "code",
   "execution_count": null,
   "metadata": {},
   "outputs": [],
   "source": [
    "#https://open.kattis.com/problems/nineknights\n",
    "import sys\n",
    "#board is 5x5, pad to 10x10 for easier calculations\n",
    "matrix = [[0 for _ in range(5)] for _ in range(5)]\n",
    "for i in range(5):\n",
    "    line = sys.stdin.readline().strip()\n",
    "    line = line.replace(\".\", \"0\")\n",
    "    line = line.replace(\"k\", \"1\")\n",
    "    matrix[i] = line\n",
    "\n",
    "#clockwise\n",
    "move_set = [(1, -2), (2, -1), (2, 1), (1, 2),      (-1, 2), (-2, 1), (-2, -1), (-1, -2)]\n",
    "good = True\n",
    "for i, v1 in enumerate(matrix):\n",
    "    for j, v2 in enumerate(matrix):\n",
    "        for m in move_set:\n",
    "            try:\n",
    "                if matrix[i + m[0]][j + m[1]] == \"1\": good = False\n",
    "            except IndexError:\n",
    "                pass\n",
    "\n",
    "if good:\n",
    "    print(\"valid\")\n",
    "else:\n",
    "    print(\"invalid\")\n",
    "#1/20"
   ]
  },
  {
   "cell_type": "code",
   "execution_count": null,
   "metadata": {},
   "outputs": [],
   "source": [
    "%%writefile dartscores.py\n",
    "url = \"https://open.kattis.com/problems/dartscores\"\n",
    "import sys\n",
    "radii = [20 * (11-p) for p in range(1, 11)]\n",
    "\n",
    "t = int(sys.stdin.readline().strip())\n",
    "for _ in range(t):\n",
    "    n_throws = int(sys.stdin.readline().strip())\n",
    "    s = 0\n",
    "    for _ in range(n_throws):\n",
    "        x, y = [int(e) for e in sys.stdin.readline().strip().split()]\n",
    "        x_offset = abs(x) \n",
    "        y_offset = abs(y)\n",
    "        pt_offset = max(x_offset, y_offset)\n",
    "        p = min([i +1 for i, e in enumerate(radii) if pt_offset < e])\n",
    "        if p != None:\n",
    "            s += p\n",
    "    print(s)\n",
    "\n",
    "#wrong"
   ]
  },
  {
   "cell_type": "code",
   "execution_count": null,
   "metadata": {},
   "outputs": [],
   "source": [
    "#https://open.kattis.com/problems/harshadnumbers\n",
    "\n",
    "def sum_of_digits(n):\n",
    "    return sum([int(e) for e in list(str(n))])\n",
    "\n",
    "n = int(input().strip())\n",
    "\n",
    "while True:\n",
    "    if (n % sum_of_digits(n)) == 0:\n",
    "        print(n)\n",
    "        break\n",
    "    if i >= 10**9:\n",
    "        print(\"fail\")\n",
    "        break\n",
    "    n += 1\n",
    "\n",
    "#1/"
   ]
  },
  {
   "cell_type": "code",
   "execution_count": null,
   "metadata": {},
   "outputs": [],
   "source": [
    "#https://open.kattis.com/problems/schoolspirit\n",
    "[exec(c) for c in [\"n = int(input())\", \"f = lambda x: 1/5 * sum([x[i] * (4/5)**i for i in range(len(x))])\", \"ss = [int(input()) for _ in range(n)]\", \"globals().update(locals())\", \"[print(f([ss[:i] + ss[(i + 1):]])) for i in range(n - 1)]\"]]\n",
    "#f is wrong"
   ]
  },
  {
   "cell_type": "code",
   "execution_count": null,
   "metadata": {},
   "outputs": [],
   "source": [
    "#https://open.kattis.com/problems/lostlineup\n",
    "n = int(input())\n",
    "ls = [int(e) + 2 for e in input().split()]\n",
    "print([1] + ls)\n",
    "#Wrong"
   ]
  },
  {
   "cell_type": "code",
   "execution_count": null,
   "metadata": {},
   "outputs": [],
   "source": [
    "#https://open.kattis.com/problems/babybites\n",
    "n = int(input())\n",
    "inp = input().split()\n",
    "expected = [i + 1 for i in range(n)]\n",
    "succ = True\n",
    "for i, v in enumerate(expected):\n",
    "    print(i, inp[i], expected[i])\n",
    "    assert(int(inp[i]))\n",
    "    assert(int(expected[i]))\n",
    "    if inp[i] != expected[i] and inp[i] != \"mumble\":\n",
    "        succ = False\n",
    "        break\n",
    "print(\"makes sense\") if succ else print(\"something is fishy\")\n",
    "#Does not pass"
   ]
  },
  {
   "cell_type": "code",
   "execution_count": null,
   "metadata": {},
   "outputs": [],
   "source": [
    "#https://open.kattis.com/problems/delimitersoup\n",
    "#https://open.kattis.com/problems/socialrunning\n"
   ]
  },
  {
   "cell_type": "code",
   "execution_count": null,
   "metadata": {},
   "outputs": [],
   "source": [
    "#https://open.kattis.com/problems/slatkisi\n",
    "n, k = [int(e) for e in input().strip().split()]\n",
    "last_k = float(str(n)[:-k])\n",
    "decimal = last_k / 10**(k + 1)\n",
    "up_or_down = int(round(decimal))\n",
    "decimal = up_or_down\n",
    "rest = str(int(decimal*10**(k + 1))).zfill(int(math.log10(n) - k))\n",
    "print(rest)\n",
    "n = int(str(n)[:(k + 1)] + rest)\n",
    "print(n)\n",
    "#Not working"
   ]
  },
  {
   "cell_type": "code",
   "execution_count": null,
   "metadata": {},
   "outputs": [],
   "source": [
    "%%writefile amultiplicationgame.py\n",
    "#https://open.kattis.com/problems/amultiplicationgame\n",
    "from operator import xor\n",
    "import sys\n",
    "sys.setrecursionlimit(1500)\n",
    "\n",
    "def recurse(n, sign):\n",
    "    if n <= 0:\n",
    "        return -1\n",
    "    if n == 1:\n",
    "        return sign\n",
    "\n",
    "    for i in range(2, 10):\n",
    "        return recurse(n//i, xor(1, sign))\n",
    "\n",
    "sign = 1\n",
    "for inp in sys.stdin:\n",
    "    n = int(inp)\n",
    "    for i in range(2, 10):\n",
    "\n",
    "        if not isinstance(n//i, int):\n",
    "            continue\n",
    "\n",
    "        res = [recurse(n//i, xor(1, sign))]\n",
    "        if res.count(sign) >= 1:\n",
    "            break\n",
    "        else:\n",
    "            sign = xor(1, sign)\n",
    "            break\n",
    "\n",
    "    if sign == 0:\n",
    "        print(\"Stan wins.\")\n",
    "    else:\n",
    "        print(\"Ollie wins.\")\n",
    "\n",
    "#Wrong answer"
   ]
  }
 ],
 "metadata": {
  "kernelspec": {
   "display_name": "Python 3",
   "name": "python3"
  },
  "language_info": {
   "codemirror_mode": {
    "name": "ipython"
   },
   "file_extension": ".py",
   "mimetype": "text/x-python",
   "name": "python",
   "nbconvert_exporter": "python"
  }
 },
 "nbformat": 4,
 "nbformat_minor": 2
}
