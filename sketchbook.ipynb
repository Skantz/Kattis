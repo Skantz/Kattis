{
 "cells": [
  {
   "cell_type": "code",
   "execution_count": null,
   "metadata": {
    "tags": []
   },
   "outputs": [],
   "source": [
    "#Some  sum  https://open.kattis.com/problems/somesum\n",
    "\n",
    "#n = int(list(sys.stdin)[0].strip())\n",
    "n=3\n",
    "n = int(input())\n",
    "\n",
    "assert(1 <= n <= 100)\n",
    "\n",
    "answer = None\n",
    "if n == 1:\n",
    "    answer = \"Either\"\n",
    "if n == 2:\n",
    "    answer = \"Odd\"\n",
    "if 3 <= n < 100 and n % 2 == 0:\n",
    "    answer = \"Either\"\n",
    "    if n % 4 == 0:\n",
    "        answer = \"Even\"\n",
    "if 3 <= n < 100 and n % 2 == 1:\n",
    "    answer = \"Either\"\n",
    "if n == 100:\n",
    "    answer = \"Even\"\n",
    "\n",
    "print(answer)\n",
    "\n",
    "#5/10"
   ]
  },
  {
   "cell_type": "code",
   "execution_count": null,
   "metadata": {},
   "outputs": [],
   "source": [
    "#https://open.kattis.com/problems/compositions3\n",
    "\n",
    "\n",
    "#0/"
   ]
  },
  {
   "cell_type": "code",
   "execution_count": null,
   "metadata": {},
   "outputs": [],
   "source": [
    "#https://open.kattis.com/problems/janitortroubles\n",
    "a, b, c, d = [int(e) for e in input().strip().split(\" \")]\n",
    "s = (a + b + c + d) / 2\n",
    "print(((s - a) * (s - b) * (s - c) * (s - d))**0.5)\n",
    "\n",
    "#Finished"
   ]
  },
  {
   "cell_type": "code",
   "execution_count": null,
   "metadata": {
    "tags": []
   },
   "outputs": [],
   "source": [
    "#https://open.kattis.com/problems/freefood\n",
    "import sys\n",
    "days = set()\n",
    "for i, line in enumerate(sys.stdin):\n",
    "    if i == 0:\n",
    "        n = int(line.strip())\n",
    "        continue\n",
    "    start, end = line.strip(\"\\n\").split(\" \")\n",
    "    for j in range(start, end + 1):\n",
    "        days.add(j)\n",
    "print(len(days))\n",
    "#Finished"
   ]
  },
  {
   "cell_type": "code",
   "execution_count": null,
   "metadata": {},
   "outputs": [],
   "source": [
    "#https://open.kattis.com/problems/luhnchecksum\n",
    "str_n = input().strip(\"\\n\")\n",
    "digits_of_n = [int(e) for e in str_n.split()]\n",
    "for i, v in enumerate(digits_of_n[::-1])\n"
   ]
  },
  {
   "cell_type": "code",
   "execution_count": null,
   "metadata": {
    "tags": []
   },
   "outputs": [],
   "source": [
    "#https://open.kattis.com/problems/completingthesquare\n",
    "\n",
    "def square():\n",
    "    import sys\n",
    "    #for \n",
    "    #x1, y1 = [int(e) for e in sys.stdin.readline().strip().split()]\n",
    "    #x2, y2 = [int(e) for e in sys.stdin.readline().strip().split()]\n",
    "    #x3, y3 = [int(e) for e in sys.stdin.readline().strip().split()]\n",
    "\n",
    "    dist1_2 = ((x1 - x2)**2 + (y1 - y2)**2)**0.5 \n",
    "    dist1_3 = ((x1 - x3)**2 + (y1 - y3)**2)**0.5 \n",
    "    dist2_3 = ((x2 - x3)**2 + (y2 - y3)**2)**0.5\n",
    "\n",
    "    max_dist = max(dist1_2, max(dist1_3, dist2_3))\n",
    "\n",
    "    for x in range(x1 - round(max_dist *2), x1 + round(max_dist * 2)):\n",
    "        for y in range(y1 - round(max_dist *2), y1 + round(max_dist * 2)): \n",
    "            dists = [((x - ox) **2 + (y - oy)**2) ** 0.5 for ox, oy in [(x1, y1), (x2, y2), (x3, y3)]]\n",
    "            for d in dists:\n",
    "                if dists.count(d) >= 2:\n",
    "                    print(x, y)\n",
    "                    return\n",
    "\n",
    "square()\n",
    "#Wrong idea"
   ]
  },
  {
   "cell_type": "code",
   "execution_count": null,
   "metadata": {
    "tags": []
   },
   "outputs": [],
   "source": [
    "#https://open.kattis.com/problems/nineknights\n",
    "import sys\n",
    "#board is 5x5, pad to 10x10 for easier calculations\n",
    "matrix = [[0 for _ in range(5)] for _ in range(5)]\n",
    "for i in range(5):\n",
    "    line = sys.stdin.readline().strip()\n",
    "    line = line.replace(\".\", \"0\")\n",
    "    line = line.replace(\"k\", \"1\")\n",
    "    matrix[i] = line\n",
    "\n",
    "#clockwise\n",
    "move_set = [(1, -2), (2, -1), (2, 1), (1, 2),      (-1, 2), (-2, 1), (-2, -1), (-1, -2)]\n",
    "good = True\n",
    "for i, v1 in enumerate(matrix):\n",
    "    for j, v2 in enumerate(matrix):\n",
    "        for m in move_set:\n",
    "            try:\n",
    "                if matrix[i + m[0]][j + m[1]] == \"1\": good = False\n",
    "            except IndexError:\n",
    "                pass\n",
    "\n",
    "if good:\n",
    "    print(\"valid\")\n",
    "else:\n",
    "    print(\"invalid\")\n",
    "#1/20"
   ]
  },
  {
   "cell_type": "code",
   "execution_count": null,
   "metadata": {
    "tags": []
   },
   "outputs": [],
   "source": [
    "#https://open.kattis.com/problems/parket\n",
    "\n",
    "import sys\n",
    "r, b = [int(e) if e.isdigit() for e in sys.stdin.readline().split()]\n",
    "\n",
    "candidate_coordinates_for_r = []\n",
    "for i in range(0, r + 1):\n",
    "    for j in range(0, r + 1):\n",
    "        #print(2*i + 2*j - 4, r)\n",
    "        if 2*i + 2*j - 4 == r:\n",
    "            candidate_coordinates_for_r.append((i, j))\n",
    "\n",
    "print(candidate_coordinates_for_r)\n",
    "for x, y in candidate_coordinates_for_r:\n",
    "    if (x - 2) * (y - 2) == b:\n",
    "        print(max(x, y), min(x, y))\n",
    "        break\n",
    "\n",
    "\n",
    "#Passes"
   ]
  },
  {
   "cell_type": "code",
   "execution_count": null,
   "metadata": {
    "tags": []
   },
   "outputs": [],
   "source": [
    "%%writefile dartscores.py\n",
    "url = \"https://open.kattis.com/problems/dartscores\"\n",
    "import sys\n",
    "radii = [20 * (11-p) for p in range(1, 11)]\n",
    "\n",
    "t = int(sys.stdin.readline().strip())\n",
    "for _ in range(t):\n",
    "    n_throws = int(sys.stdin.readline().strip())\n",
    "    s = 0\n",
    "    for _ in range(n_throws):\n",
    "        x, y = [int(e) for e in sys.stdin.readline().strip().split()]\n",
    "        x_offset = abs(x) \n",
    "        y_offset = abs(y)\n",
    "        pt_offset = max(x_offset, y_offset)\n",
    "        p = min([i +1 for i, e in enumerate(radii) if pt_offset < e])\n",
    "        if p != None:\n",
    "            s += p\n",
    "    print(s)\n",
    "\n",
    "#wrong"
   ]
  },
  {
   "cell_type": "code",
   "execution_count": null,
   "metadata": {
    "tags": []
   },
   "outputs": [],
   "source": [
    "#https://open.kattis.com/problems/harshadnumbers\n",
    "\n",
    "def sum_of_digits(n):\n",
    "    return sum([int(e) for e in list(str(n))])\n",
    "\n",
    "n = int(input().strip())\n",
    "\n",
    "while True:\n",
    "    if (n % sum_of_digits(n)) == 0:\n",
    "        print(n)\n",
    "        break\n",
    "    if i >= 10**9:\n",
    "        print(\"fail\")\n",
    "        break\n",
    "    n += 1\n",
    "\n",
    "#1/"
   ]
  },
  {
   "cell_type": "code",
   "execution_count": null,
   "metadata": {},
   "outputs": [],
   "source": [
    "[[print(c+1,int((int(n)+1)*int(n)/2+int(n))) for _,n in [input().split()]] for c in range(int(input()))] #https://open.kattis.com/problems/chanukah   Passes"
   ]
  },
  {
   "cell_type": "code",
   "execution_count": null,
   "metadata": {},
   "outputs": [],
   "source": [
    "#https://open.kattis.com/problems/schoolspirit\n",
    "[exec(c) for c in [\"n = int(input())\", \"f = lambda x: 1/5 * sum([x[i] * (4/5)**i for i in range(len(x))])\", \"ss = [int(input()) for _ in range(n)]\", \"globals().update(locals())\", \"[print(f([ss[:i] + ss[(i + 1):]])) for i in range(n - 1)]\"]]\n",
    "#f is wrong"
   ]
  },
  {
   "cell_type": "code",
   "execution_count": null,
   "metadata": {
    "tags": []
   },
   "outputs": [],
   "source": [
    "#https://open.kattis.com/problems/lostlineup\n",
    "n = int(input())\n",
    "ls = [int(e) + 2 for e in input().split()]\n",
    "print([1] + ls)\n",
    "#Wrong"
   ]
  },
  {
   "cell_type": "code",
   "execution_count": null,
   "metadata": {
    "tags": []
   },
   "outputs": [],
   "source": [
    "#https://open.kattis.com/problems/dasblinkenlights\n",
    "import math\n",
    "x, y, z = [int(e) for e in input().split()]\n",
    "print(\"yes\") if x*y/math.gcd(x, y) <= z else print(\"no\")\n",
    "#Pass"
   ]
  },
  {
   "cell_type": "code",
   "execution_count": null,
   "metadata": {},
   "outputs": [],
   "source": [
    "#https://open.kattis.com/problems/countingclauses\n",
    "x, y = [int(e) for e in input().split()]\n",
    "print(\"satisfactory\") if x >= 8 else print(\"unsatisfactory\")\n",
    "#Pass"
   ]
  },
  {
   "cell_type": "code",
   "execution_count": null,
   "metadata": {
    "tags": []
   },
   "outputs": [],
   "source": [
    "#https://open.kattis.com/problems/babybites\n",
    "n = int(input())\n",
    "inp = input().split()\n",
    "expected = [i + 1 for i in range(n)]\n",
    "succ = True\n",
    "for i, v in enumerate(expected):\n",
    "    print(i, inp[i], expected[i])\n",
    "    assert(int(inp[i]))\n",
    "    assert(int(expected[i]))\n",
    "    if inp[i] != expected[i] and inp[i] != \"mumble\":\n",
    "        succ = False\n",
    "        break\n",
    "print(\"makes sense\") if succ else print(\"something is fishy\")\n",
    "#Does not pass"
   ]
  },
  {
   "cell_type": "code",
   "execution_count": null,
   "metadata": {},
   "outputs": [],
   "source": [
    "#https://open.kattis.com/problems/delimitersoup\n",
    "#https://open.kattis.com/problems/socialrunning\n"
   ]
  },
  {
   "cell_type": "code",
   "execution_count": null,
   "metadata": {},
   "outputs": [],
   "source": [
    "#https://open.kattis.com/problems/conformity\n",
    "n = int(input().strip())\n",
    "choice = {}\n",
    "for _ in range(n):\n",
    "    inp = input().strip()\n",
    "    inp = [int(e) for e in inp.split(\" \")]\n",
    "    inp.sort()\n",
    "    inp = \" \".join([str(e) for e in inp])\n",
    "    try:\n",
    "        choice[inp] += 1\n",
    "    except:\n",
    "        choice[inp] = 1\n",
    "        \n",
    "m = max(choice.values())\n",
    "for k in choice:\n",
    "    if choice[k] == m:\n",
    "        print(k)\n",
    "        break\n"
   ]
  },
  {
   "cell_type": "code",
   "execution_count": null,
   "metadata": {
    "tags": []
   },
   "outputs": [],
   "source": [
    "#https://open.kattis.com/problems/slatkisi\n",
    "n, k = [int(e) for e in input().strip().split()]\n",
    "last_k = float(str(n)[:-k])\n",
    "decimal = last_k / 10**(k + 1)\n",
    "up_or_down = int(round(decimal))\n",
    "decimal = up_or_down\n",
    "rest = str(int(decimal*10**(k + 1))).zfill(int(math.log10(n) - k))\n",
    "print(rest)\n",
    "n = int(str(n)[:(k + 1)] + rest)\n",
    "print(n)\n",
    "#Not working"
   ]
  },
  {
   "cell_type": "code",
   "execution_count": null,
   "metadata": {},
   "outputs": [],
   "source": []
  }
 ],
 "metadata": {
  "language_info": {
   "codemirror_mode": {
    "name": "ipython",
    "version": 3
   },
   "file_extension": ".py",
   "mimetype": "text/x-python",
   "name": "python",
   "nbconvert_exporter": "python",
   "pygments_lexer": "ipython3",
   "version": "3"
  },
  "orig_nbformat": 2,
  "kernelspec": {
   "name": "python3",
   "display_name": "Python 3"
  }
 },
 "nbformat": 4,
 "nbformat_minor": 2
}
