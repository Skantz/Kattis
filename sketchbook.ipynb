{
 "cells": [
  {
   "cell_type": "code",
   "execution_count": null,
   "metadata": {
    "tags": []
   },
   "outputs": [],
   "source": [
    "#Some  sum  https://open.kattis.com/problems/somesum\n",
    "\n",
    "#n = int(list(sys.stdin)[0].strip())\n",
    "n=3\n",
    "n = int(input())\n",
    "\n",
    "assert(1 <= n <= 100)\n",
    "\n",
    "answer = None\n",
    "if n == 1:\n",
    "    answer = \"Either\"\n",
    "if n == 2:\n",
    "    answer = \"Odd\"\n",
    "if 3 <= n < 100 and n % 2 == 0:\n",
    "    answer = \"Either\"\n",
    "    if n % 4 == 0:\n",
    "        answer = \"Even\"\n",
    "if 3 <= n < 100 and n % 2 == 1:\n",
    "    answer = \"Either\"\n",
    "if n == 100:\n",
    "    answer = \"Even\"\n",
    "\n",
    "print(answer)\n",
    "\n",
    "#5/10"
   ]
  },
  {
   "cell_type": "code",
   "execution_count": null,
   "metadata": {},
   "outputs": [],
   "source": [
    "#https://open.kattis.com/problems/compositions3\n",
    "\n",
    "\n",
    "#0/"
   ]
  },
  {
   "cell_type": "code",
   "execution_count": null,
   "metadata": {},
   "outputs": [],
   "source": [
    "#https://open.kattis.com/problems/janitortroubles\n",
    "a, b, c, d = [int(e) for e in input().strip().split(\" \")]\n",
    "s = (a + b + c + d) / 2\n",
    "print(((s - a) * (s - b) * (s - c) * (s - d))**0.5)\n",
    "\n",
    "#Finished"
   ]
  },
  {
   "cell_type": "code",
   "execution_count": null,
   "metadata": {
    "tags": []
   },
   "outputs": [],
   "source": [
    "#https://open.kattis.com/problems/freefood\n",
    "import sys\n",
    "days = set()\n",
    "for i, line in enumerate(sys.stdin):\n",
    "    if i == 0:\n",
    "        n = int(line.strip())\n",
    "        continue\n",
    "    start, end = line.strip(\"\\n\").split(\" \")\n",
    "    for j in range(start, end + 1):\n",
    "        days.add(j)\n",
    "print(len(days))\n",
    "#Finished"
   ]
  },
  {
   "cell_type": "code",
   "execution_count": null,
   "metadata": {},
   "outputs": [],
   "source": [
    "#https://open.kattis.com/problems/luhnchecksum\n",
    "str_n = input().strip(\"\\n\")\n",
    "digits_of_n = [int(e) for e in str_n.split()]\n",
    "for i, v in enumerate(digits_of_n[::-1])\n"
   ]
  },
  {
   "cell_type": "code",
   "execution_count": null,
   "metadata": {
    "tags": []
   },
   "outputs": [],
   "source": [
    "#https://open.kattis.com/problems/completingthesquare\n",
    "\n",
    "def square():\n",
    "    import sys\n",
    "    #for \n",
    "    #x1, y1 = [int(e) for e in sys.stdin.readline().strip().split()]\n",
    "    #x2, y2 = [int(e) for e in sys.stdin.readline().strip().split()]\n",
    "    #x3, y3 = [int(e) for e in sys.stdin.readline().strip().split()]\n",
    "\n",
    "    dist1_2 = ((x1 - x2)**2 + (y1 - y2)**2)**0.5 \n",
    "    dist1_3 = ((x1 - x3)**2 + (y1 - y3)**2)**0.5 \n",
    "    dist2_3 = ((x2 - x3)**2 + (y2 - y3)**2)**0.5\n",
    "\n",
    "    max_dist = max(dist1_2, max(dist1_3, dist2_3))\n",
    "\n",
    "    for x in range(x1 - round(max_dist *2), x1 + round(max_dist * 2)):\n",
    "        for y in range(y1 - round(max_dist *2), y1 + round(max_dist * 2)): \n",
    "            dists = [((x - ox) **2 + (y - oy)**2) ** 0.5 for ox, oy in [(x1, y1), (x2, y2), (x3, y3)]]\n",
    "            for d in dists:\n",
    "                if dists.count(d) >= 2:\n",
    "                    print(x, y)\n",
    "                    return\n",
    "\n",
    "square()\n",
    "#Wrong idea"
   ]
  },
  {
   "cell_type": "code",
   "execution_count": null,
   "metadata": {
    "tags": []
   },
   "outputs": [],
   "source": [
    "#https://open.kattis.com/problems/nineknights\n",
    "import sys\n",
    "#board is 5x5, pad to 10x10 for easier calculations\n",
    "matrix = [[0 for _ in range(5)] for _ in range(5)]\n",
    "for i in range(5):\n",
    "    line = sys.stdin.readline().strip()\n",
    "    line = line.replace(\".\", \"0\")\n",
    "    line = line.replace(\"k\", \"1\")\n",
    "    matrix[i] = line\n",
    "\n",
    "#clockwise\n",
    "move_set = [(1, -2), (2, -1), (2, 1), (1, 2),      (-1, 2), (-2, 1), (-2, -1), (-1, -2)]\n",
    "good = True\n",
    "for i, v1 in enumerate(matrix):\n",
    "    for j, v2 in enumerate(matrix):\n",
    "        for m in move_set:\n",
    "            try:\n",
    "                if matrix[i + m[0]][j + m[1]] == \"1\": good = False\n",
    "            except IndexError:\n",
    "                pass\n",
    "\n",
    "if good:\n",
    "    print(\"valid\")\n",
    "else:\n",
    "    print(\"invalid\")\n",
    "#1/20"
   ]
  },
  {
   "cell_type": "code",
   "execution_count": null,
   "metadata": {
    "tags": []
   },
   "outputs": [],
   "source": [
    "#https://open.kattis.com/problems/parket\n",
    "\n",
    "import sys\n",
    "r, b = [int(e) if e.isdigit() for e in sys.stdin.readline().split()]\n",
    "\n",
    "candidate_coordinates_for_r = []\n",
    "for i in range(0, r + 1):\n",
    "    for j in range(0, r + 1):\n",
    "        #print(2*i + 2*j - 4, r)\n",
    "        if 2*i + 2*j - 4 == r:\n",
    "            candidate_coordinates_for_r.append((i, j))\n",
    "\n",
    "print(candidate_coordinates_for_r)\n",
    "for x, y in candidate_coordinates_for_r:\n",
    "    if (x - 2) * (y - 2) == b:\n",
    "        print(max(x, y), min(x, y))\n",
    "        break\n",
    "\n",
    "\n",
    "#Passes"
   ]
  },
  {
   "cell_type": "code",
   "execution_count": null,
   "metadata": {
    "tags": []
   },
   "outputs": [],
   "source": [
    "%%writefile dartscores.py\n",
    "url = \"https://open.kattis.com/problems/dartscores\"\n",
    "import sys\n",
    "radii = [20 * (11-p) for p in range(1, 11)]\n",
    "\n",
    "t = int(sys.stdin.readline().strip())\n",
    "for _ in range(t):\n",
    "    n_throws = int(sys.stdin.readline().strip())\n",
    "    s = 0\n",
    "    for _ in range(n_throws):\n",
    "        x, y = [int(e) for e in sys.stdin.readline().strip().split()]\n",
    "        x_offset = abs(x) \n",
    "        y_offset = abs(y)\n",
    "        pt_offset = max(x_offset, y_offset)\n",
    "        p = min([i +1 for i, e in enumerate(radii) if pt_offset < e])\n",
    "        if p != None:\n",
    "            s += p\n",
    "    print(s)\n",
    "\n",
    "#wrong"
   ]
  }
 ],
 "metadata": {
  "language_info": {
   "codemirror_mode": {
    "name": "ipython",
    "version": 3
   },
   "file_extension": ".py",
   "mimetype": "text/x-python",
   "name": "python",
   "nbconvert_exporter": "python",
   "pygments_lexer": "ipython3",
   "version": "3"
  },
  "orig_nbformat": 2,
  "kernelspec": {
   "name": "python3",
   "display_name": "Python 3"
  }
 },
 "nbformat": 4,
 "nbformat_minor": 2
}
