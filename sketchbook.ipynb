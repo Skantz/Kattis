{
 "cells": [
  {
   "cell_type": "code",
   "execution_count": null,
   "metadata": {
    "tags": []
   },
   "outputs": [],
   "source": [
    "#Some  sum  https://open.kattis.com/problems/somesum\n",
    "\n",
    "#n = int(list(sys.stdin)[0].strip())\n",
    "n=3\n",
    "n = int(input())\n",
    "\n",
    "assert(1 <= n <= 100)\n",
    "\n",
    "answer = None\n",
    "if n == 1:\n",
    "    answer = \"Either\"\n",
    "if n == 2:\n",
    "    answer = \"Odd\"\n",
    "if 3 <= n < 100 and n % 2 == 0:\n",
    "    answer = \"Either\"\n",
    "    if n % 4 == 0:\n",
    "        answer = \"Even\"\n",
    "if 3 <= n < 100 and n % 2 == 1:\n",
    "    answer = \"Either\"\n",
    "if n == 100:\n",
    "    answer = \"Even\"\n",
    "\n",
    "print(answer)\n",
    "\n",
    "#5/10"
   ]
  },
  {
   "cell_type": "code",
   "execution_count": null,
   "metadata": {},
   "outputs": [],
   "source": [
    "#https://open.kattis.com/problems/compositions3\n",
    "\n",
    "\n",
    "#0/"
   ]
  },
  {
   "cell_type": "code",
   "execution_count": null,
   "metadata": {},
   "outputs": [],
   "source": [
    "#https://open.kattis.com/problems/janitortroubles\n",
    "a, b, c, d = [int(e) for e in input().strip().split(\" \")]\n",
    "s = (a + b + c + d) / 2\n",
    "print(((s - a) * (s - b) * (s - c) * (s - d))**0.5)\n",
    "\n",
    "#Finished"
   ]
  },
  {
   "cell_type": "code",
   "execution_count": 3,
   "metadata": {
    "tags": []
   },
   "outputs": [
    {
     "output_type": "stream",
     "name": "stdout",
     "text": "0\n"
    }
   ],
   "source": [
    "#https://open.kattis.com/problems/freefood\n",
    "import sys\n",
    "days = set()\n",
    "for i, line in enumerate(sys.stdin):\n",
    "    if i == 0:\n",
    "        n = int(line.strip())\n",
    "        continue\n",
    "    start, end = line.strip(\"\\n\").split(\" \")\n",
    "    for j in range(start, end + 1):\n",
    "        days.add(j)\n",
    "print(len(days))\n",
    "#Finished"
   ]
  },
  {
   "cell_type": "code",
   "execution_count": null,
   "metadata": {},
   "outputs": [],
   "source": [
    "#https://open.kattis.com/problems/luhnchecksum\n",
    "str_n = input().strip(\"\\n\")\n",
    "digits_of_n = [int(e) for e in str_n.split()]\n",
    "for i, v in enumerate(digits_of_n[::-1])\n"
   ]
  }
 ],
 "metadata": {
  "language_info": {
   "codemirror_mode": {
    "name": "ipython",
    "version": 3
   },
   "file_extension": ".py",
   "mimetype": "text/x-python",
   "name": "python",
   "nbconvert_exporter": "python",
   "pygments_lexer": "ipython3",
   "version": "3"
  },
  "orig_nbformat": 2,
  "kernelspec": {
   "name": "python3",
   "display_name": "Python 3"
  }
 },
 "nbformat": 4,
 "nbformat_minor": 2
}
