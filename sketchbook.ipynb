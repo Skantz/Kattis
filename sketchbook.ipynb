{
 "cells": [
  {
   "cell_type": "code",
   "execution_count": null,
   "metadata": {
    "tags": []
   },
   "outputs": [],
   "source": [
    "#Some sum  https://open.kattis.com/problems/somesum\n",
    "\n",
    "#n = int(list(sys.stdin)[0].strip())\n",
    "n=3\n",
    "n = int(input())\n",
    "\n",
    "assert(1 <= n <= 100)\n",
    "\n",
    "answer = None\n",
    "if n == 1:\n",
    "    answer = \"Either\"\n",
    "if n == 2:\n",
    "    answer = \"Odd\"\n",
    "if 3 <= n < 100 and n % 2 == 0:\n",
    "    answer = \"Either\"\n",
    "    if n % 4 == 0:\n",
    "        answer = \"Even\"\n",
    "if 3 <= n < 100 and n % 2 == 1:\n",
    "    answer = \"Either\"\n",
    "if n == 100:\n",
    "    answer = \"Even\"\n",
    "\n",
    "print(answer)\n",
    "\n",
    "#5/10"
   ]
  },
  {
   "cell_type": "code",
   "execution_count": null,
   "metadata": {},
   "outputs": [],
   "source": []
  },
  {
   "cell_type": "code",
   "execution_count": null,
   "metadata": {},
   "outputs": [],
   "source": []
  },
  {
   "cell_type": "code",
   "execution_count": null,
   "metadata": {},
   "outputs": [],
   "source": []
  },
  {
   "cell_type": "code",
   "execution_count": null,
   "metadata": {},
   "outputs": [],
   "source": []
  }
 ],
 "metadata": {
  "language_info": {
   "codemirror_mode": {
    "name": "ipython",
    "version": 3
   },
   "file_extension": ".py",
   "mimetype": "text/x-python",
   "name": "python",
   "nbconvert_exporter": "python",
   "pygments_lexer": "ipython3",
   "version": "3"
  },
  "orig_nbformat": 2,
  "kernelspec": {
   "name": "python3",
   "display_name": "Python 3"
  }
 },
 "nbformat": 4,
 "nbformat_minor": 2
}
